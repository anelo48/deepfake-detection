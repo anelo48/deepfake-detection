{
 "cells": [
  {
   "cell_type": "code",
   "execution_count": 1,
   "metadata": {},
   "outputs": [],
   "source": [
    "import matplotlib.pyplot as plt\n",
    "import numpy as np\n",
    "import PIL\n",
    "import tensorflow as tf\n",
    "# from tensorflow.keras import layers,,Flatten\n",
    "# from tensorflow.keras import layers,Dense,Flatten\n",
    "from tensorflow.keras.models import Sequential\n",
    "from tensorflow.keras.optimizers import Adam\n",
    "from keras.layers import Dense,Flatten\n",
    "from keras.applications.imagenet_utils import preprocess_input"
   ]
  },
  {
   "cell_type": "code",
   "execution_count": 2,
   "metadata": {},
   "outputs": [],
   "source": [
    "import pathlib\n",
    "\n",
    "\n",
    "data_dir=\"DataSet_Create_Train/\";\n",
    "data_dir = pathlib.Path(data_dir)"
   ]
  },
  {
   "cell_type": "code",
   "execution_count": 3,
   "metadata": {},
   "outputs": [
    {
     "name": "stdout",
     "output_type": "stream",
     "text": [
      "DataSet_Create_Train\n"
     ]
    }
   ],
   "source": [
    "\n",
    "print(data_dir)\n",
    "# rose=list(data_dir.glob(\"Real/*\"))\n",
    "# print (rose)\n",
    "# PIL.Image.open(str(rose[1]))"
   ]
  },
  {
   "cell_type": "code",
   "execution_count": null,
   "metadata": {},
   "outputs": [],
   "source": [
    "# y2=[]\n",
    "# for label in test:\n",
    "#     y2.append(label)"
   ]
  },
  {
   "cell_type": "code",
   "execution_count": 4,
   "metadata": {},
   "outputs": [
    {
     "name": "stdout",
     "output_type": "stream",
     "text": [
      "Found 21967 files belonging to 2 classes.\n",
      "Using 17574 files for training.\n",
      "['Fake', 'Real']\n"
     ]
    }
   ],
   "source": [
    "img_height,img_width=180,180\n",
    "batch_size=256\n",
    "\n",
    "train_ds= tf.keras.preprocessing.image_dataset_from_directory(\n",
    "  data_dir,\n",
    "  validation_split=0.2,\n",
    "  subset=\"training\",\n",
    "  seed=123,\n",
    "  image_size=(img_height, img_width),\n",
    "  batch_size=batch_size);\n",
    "\n",
    "classes = train_ds.class_names\n",
    "# testClasses = testData.class_names\n",
    "\n",
    "print(classes);\n",
    "\n"
   ]
  },
  {
   "cell_type": "code",
   "execution_count": 5,
   "metadata": {},
   "outputs": [
    {
     "name": "stdout",
     "output_type": "stream",
     "text": [
      "Found 21967 files belonging to 2 classes.\n",
      "Using 4393 files for validation.\n"
     ]
    }
   ],
   "source": [
    "val_ds = tf.keras.preprocessing.image_dataset_from_directory(\n",
    "  data_dir,\n",
    "  validation_split=0.2,\n",
    "  subset=\"validation\",\n",
    "  seed=123,\n",
    "  image_size=(img_height, img_width),\n",
    "  batch_size=batch_size)"
   ]
  },
  {
   "cell_type": "code",
   "execution_count": 6,
   "metadata": {},
   "outputs": [
    {
     "name": "stdout",
     "output_type": "stream",
     "text": [
      "['Fake', 'Real']\n"
     ]
    }
   ],
   "source": [
    "class_names = train_ds.class_names\n",
    "print(class_names)"
   ]
  },
  {
   "cell_type": "code",
   "execution_count": 7,
   "metadata": {},
   "outputs": [],
   "source": [
    "resnet_model = Sequential()\n",
    "\n",
    "pretrained_model= tf.keras.applications.ResNet50(include_top=False,\n",
    "                   input_shape=(180,180,3),\n",
    "                   pooling='avg',classes=2,\n",
    "                   weights='imagenet')\n",
    "for layer in pretrained_model.layers:\n",
    "        layer.trainable=False\n",
    "\n",
    "resnet_model.add(pretrained_model)\n",
    "resnet_model.add(Flatten())\n",
    "resnet_model.add(Dense(512, activation='relu'))\n",
    "resnet_model.add(Dense(5, activation='softmax'))"
   ]
  },
  {
   "cell_type": "code",
   "execution_count": 8,
   "metadata": {},
   "outputs": [
    {
     "name": "stdout",
     "output_type": "stream",
     "text": [
      "Model: \"sequential\"\n",
      "_________________________________________________________________\n",
      " Layer (type)                Output Shape              Param #   \n",
      "=================================================================\n",
      " resnet50 (Functional)       (None, 2048)              23587712  \n",
      "                                                                 \n",
      " flatten (Flatten)           (None, 2048)              0         \n",
      "                                                                 \n",
      " dense (Dense)               (None, 512)               1049088   \n",
      "                                                                 \n",
      " dense_1 (Dense)             (None, 5)                 2565      \n",
      "                                                                 \n",
      "=================================================================\n",
      "Total params: 24,639,365\n",
      "Trainable params: 1,051,653\n",
      "Non-trainable params: 23,587,712\n",
      "_________________________________________________________________\n"
     ]
    }
   ],
   "source": [
    "# resnet_model.summary()\n",
    "stringlist = []\n",
    "resnet_model.summary(print_fn=lambda x: stringlist.append(x))\n",
    "short_model_summary = \"\\n\".join(stringlist)\n",
    "print(short_model_summary)\n",
    "# print(resnet_model.summary())"
   ]
  },
  {
   "cell_type": "code",
   "execution_count": 8,
   "metadata": {},
   "outputs": [],
   "source": [
    "resnet_model.compile(optimizer='adam',loss = tf.keras.losses.SparseCategoricalCrossentropy(from_logits=True), metrics=['accuracy'])"
   ]
  },
  {
   "cell_type": "code",
   "execution_count": 9,
   "metadata": {},
   "outputs": [
    {
     "name": "stdout",
     "output_type": "stream",
     "text": [
      "Epoch 1/2\n"
     ]
    },
    {
     "name": "stderr",
     "output_type": "stream",
     "text": [
      "c:\\Users\\win10\\AppData\\Local\\Programs\\Python\\Python310\\lib\\site-packages\\tensorflow\\python\\util\\dispatch.py:1082: UserWarning: \"`sparse_categorical_crossentropy` received `from_logits=True`, but the `output` argument was produced by a sigmoid or softmax activation and thus does not represent logits. Was this intended?\"\n",
      "  return dispatch_target(*args, **kwargs)\n"
     ]
    },
    {
     "name": "stdout",
     "output_type": "stream",
     "text": [
      "69/69 [==============================] - 1042s 15s/step - loss: 0.0447 - accuracy: 0.9892 - val_loss: 0.0057 - val_accuracy: 0.9989\n",
      "Epoch 2/2\n",
      "69/69 [==============================] - 968s 14s/step - loss: 0.0012 - accuracy: 0.9998 - val_loss: 3.3545e-04 - val_accuracy: 1.0000\n",
      "{'loss': [0.044726818799972534, 0.0012447750195860863], 'accuracy': [0.989188551902771, 0.9997723698616028], 'val_loss': [0.0057160514406859875, 0.0003354507207404822], 'val_accuracy': [0.9988618493080139, 1.0]}\n"
     ]
    }
   ],
   "source": [
    "epochs = 2\n",
    "history = resnet_model.fit(\n",
    "    train_ds, \n",
    "    validation_data=val_ds, \n",
    "    epochs=epochs)\n",
    "    \n",
    "\n",
    "\n",
    "print (history.history)"
   ]
  },
  {
   "cell_type": "code",
   "execution_count": 19,
   "metadata": {},
   "outputs": [
    {
     "ename": "AttributeError",
     "evalue": "'dict' object has no attribute 'history'",
     "output_type": "error",
     "traceback": [
      "\u001b[1;31m---------------------------------------------------------------------------\u001b[0m",
      "\u001b[1;31mAttributeError\u001b[0m                            Traceback (most recent call last)",
      "\u001b[1;32md:\\skripsi\\ModulResNet50.ipynb Cell 12\u001b[0m in \u001b[0;36m<cell line: 7>\u001b[1;34m()\u001b[0m\n\u001b[0;32m      <a href='vscode-notebook-cell:/d%3A/skripsi/ModulResNet50.ipynb#ch0000011?line=2'>3</a>\u001b[0m \u001b[39m# with open(\"database/model_arch.json\") as f:\u001b[39;00m\n\u001b[0;32m      <a href='vscode-notebook-cell:/d%3A/skripsi/ModulResNet50.ipynb#ch0000011?line=3'>4</a>\u001b[0m \u001b[39m#     lines = f.readlines()\u001b[39;00m\n\u001b[0;32m      <a href='vscode-notebook-cell:/d%3A/skripsi/ModulResNet50.ipynb#ch0000011?line=5'>6</a>\u001b[0m resnet_model\u001b[39m.\u001b[39msave_weights(\u001b[39m\"\u001b[39m\u001b[39mdatabase/my_model_weights.h5\u001b[39m\u001b[39m\"\u001b[39m)\n\u001b[1;32m----> <a href='vscode-notebook-cell:/d%3A/skripsi/ModulResNet50.ipynb#ch0000011?line=6'>7</a>\u001b[0m np\u001b[39m.\u001b[39msave(\u001b[39m'\u001b[39m\u001b[39mdatabase/history.npy\u001b[39m\u001b[39m'\u001b[39m,history\u001b[39m.\u001b[39;49mhistory)\n",
      "\u001b[1;31mAttributeError\u001b[0m: 'dict' object has no attribute 'history'"
     ]
    }
   ],
   "source": [
    "\n",
    "from keras.models import model_from_json\n",
    "\n",
    "# with open(\"database/model_arch.json\") as f:\n",
    "#     lines = f.readlines()\n",
    "    \n",
    "resnet_model.save_weights(\"database/my_model_weights.h5\")\n",
    "np.save('database/history.npy',history.history)\n",
    "\n"
   ]
  },
  {
   "cell_type": "code",
   "execution_count": 20,
   "metadata": {},
   "outputs": [
    {
     "ename": "FileNotFoundError",
     "evalue": "[Errno 2] No such file or directory: 'database/history.npy'",
     "output_type": "error",
     "traceback": [
      "\u001b[1;31m---------------------------------------------------------------------------\u001b[0m",
      "\u001b[1;31mFileNotFoundError\u001b[0m                         Traceback (most recent call last)",
      "\u001b[1;32md:\\skripsi\\ModulResNet50.ipynb Cell 13\u001b[0m in \u001b[0;36m<cell line: 1>\u001b[1;34m()\u001b[0m\n\u001b[1;32m----> <a href='vscode-notebook-cell:/d%3A/skripsi/ModulResNet50.ipynb#ch0000012?line=0'>1</a>\u001b[0m history1\u001b[39m=\u001b[39mnp\u001b[39m.\u001b[39;49mload(\u001b[39m'\u001b[39;49m\u001b[39mdatabase/history.npy\u001b[39;49m\u001b[39m'\u001b[39;49m,allow_pickle\u001b[39m=\u001b[39;49m\u001b[39m'\u001b[39;49m\u001b[39mTRUE\u001b[39;49m\u001b[39m'\u001b[39;49m)\u001b[39m.\u001b[39mitem()\n\u001b[0;32m      <a href='vscode-notebook-cell:/d%3A/skripsi/ModulResNet50.ipynb#ch0000012?line=1'>2</a>\u001b[0m resnet_model\u001b[39m.\u001b[39mload_weights(\u001b[39m'\u001b[39m\u001b[39mdatabase/my_model_weights.h5\u001b[39m\u001b[39m'\u001b[39m)\n\u001b[0;32m      <a href='vscode-notebook-cell:/d%3A/skripsi/ModulResNet50.ipynb#ch0000012?line=2'>3</a>\u001b[0m \u001b[39m# from keras.models import model_from_json\u001b[39;00m\n\u001b[0;32m      <a href='vscode-notebook-cell:/d%3A/skripsi/ModulResNet50.ipynb#ch0000012?line=3'>4</a>\u001b[0m \n\u001b[0;32m      <a href='vscode-notebook-cell:/d%3A/skripsi/ModulResNet50.ipynb#ch0000012?line=4'>5</a>\u001b[0m \u001b[39m# with open(\"database/model_arch.json\") as f:\u001b[39;00m\n\u001b[0;32m      <a href='vscode-notebook-cell:/d%3A/skripsi/ModulResNet50.ipynb#ch0000012?line=5'>6</a>\u001b[0m \u001b[39m#     lines = f.readlines()\u001b[39;00m\n\u001b[0;32m      <a href='vscode-notebook-cell:/d%3A/skripsi/ModulResNet50.ipynb#ch0000012?line=6'>7</a>\u001b[0m \n\u001b[0;32m      <a href='vscode-notebook-cell:/d%3A/skripsi/ModulResNet50.ipynb#ch0000012?line=7'>8</a>\u001b[0m \u001b[39m# model = model_from_json(lines[0])\u001b[39;00m\n",
      "File \u001b[1;32mc:\\Users\\win10\\AppData\\Local\\Programs\\Python\\Python310\\lib\\site-packages\\numpy\\lib\\npyio.py:390\u001b[0m, in \u001b[0;36mload\u001b[1;34m(file, mmap_mode, allow_pickle, fix_imports, encoding)\u001b[0m\n\u001b[0;32m    388\u001b[0m     own_fid \u001b[39m=\u001b[39m \u001b[39mFalse\u001b[39;00m\n\u001b[0;32m    389\u001b[0m \u001b[39melse\u001b[39;00m:\n\u001b[1;32m--> 390\u001b[0m     fid \u001b[39m=\u001b[39m stack\u001b[39m.\u001b[39menter_context(\u001b[39mopen\u001b[39;49m(os_fspath(file), \u001b[39m\"\u001b[39;49m\u001b[39mrb\u001b[39;49m\u001b[39m\"\u001b[39;49m))\n\u001b[0;32m    391\u001b[0m     own_fid \u001b[39m=\u001b[39m \u001b[39mTrue\u001b[39;00m\n\u001b[0;32m    393\u001b[0m \u001b[39m# Code to distinguish from NumPy binary files and pickles.\u001b[39;00m\n",
      "\u001b[1;31mFileNotFoundError\u001b[0m: [Errno 2] No such file or directory: 'database/history.npy'"
     ]
    }
   ],
   "source": [
    "\n",
    "\n",
    "history1=np.load('database/history.npy',allow_pickle='TRUE').item()\n",
    "resnet_model.load_weights('database/my_model_weights.h5')\n",
    "# from keras.models import model_from_json\n",
    "\n",
    "# with open(\"database/model_arch.json\") as f:\n",
    "#     lines = f.readlines()\n",
    "\n",
    "# model = model_from_json(lines[0])\n",
    "print(history1)"
   ]
  },
  {
   "cell_type": "code",
   "execution_count": 101,
   "metadata": {},
   "outputs": [
    {
     "name": "stdout",
     "output_type": "stream",
     "text": [
      "None\n",
      "<keras.callbacks.History object at 0x7ff07bdbc550>\n"
     ]
    }
   ],
   "source": [
    "# from keras.models import model_from_json\n",
    "\n",
    "# with open(\"database/model_arch.json\") as f:\n",
    "#     lines = f.readlines()\n",
    "\n",
    "# model = model_from_json(lines[0])\n",
    "# resnet_model.load_weights('database/my_model_weights.h5')\n",
    "\n",
    "\n"
   ]
  },
  {
   "cell_type": "code",
   "execution_count": 103,
   "metadata": {},
   "outputs": [
    {
     "name": "stdout",
     "output_type": "stream",
     "text": [
      "<keras.engine.sequential.Sequential object at 0x7ff0c5e92af0>\n",
      "<keras.callbacks.History object at 0x7ff07bdbc550>\n"
     ]
    }
   ],
   "source": [
    "# print(model)\n",
    "# print(history)"
   ]
  },
  {
   "cell_type": "code",
   "execution_count": 15,
   "metadata": {},
   "outputs": [
    {
     "data": {
      "image/png": "[encoded data removed]",
      "text/plain": [
       "<Figure size 432x288 with 1 Axes>"
      ]
     },
     "metadata": {
      "needs_background": "light"
     },
     "output_type": "display_data"
    }
   ],
   "source": [
    "history=np.load('database/history.npy',allow_pickle='TRUE').item()\n",
    "# print (history.history)\n",
    "fig1 = plt.gcf()\n",
    "plt.plot(history['accuracy'])\n",
    "plt.plot(history['val_accuracy'])\n",
    "plt.axis(ymin=0.4,ymax=1)\n",
    "plt.grid()\n",
    "plt.title('Model Accuracy')\n",
    "plt.ylabel('Accuracy')\n",
    "plt.xlabel('Epochs')\n",
    "plt.legend(['train', 'validation'])\n",
    "plt.savefig('database/accuracy.png')\n",
    "plt.show()\n",
    "\n"
   ]
  },
  {
   "cell_type": "code",
   "execution_count": 16,
   "metadata": {},
   "outputs": [
    {
     "data": {
      "image/png": "[encoded data removed]",
      "text/plain": [
       "<Figure size 432x288 with 1 Axes>"
      ]
     },
     "metadata": {
      "needs_background": "light"
     },
     "output_type": "display_data"
    }
   ],
   "source": [
    "\n",
    "\n",
    "plt.plot(history['loss'])\n",
    "plt.plot(history['val_loss'])\n",
    "plt.grid()\n",
    "plt.title('model Loss')\n",
    "plt.ylabel('loss')\n",
    "plt.xlabel('epochs')\n",
    "plt.legend(['train', 'validation'])\n",
    "plt.savefig('database/model_loss.png')\n",
    "plt.show()"
   ]
  },
  {
   "cell_type": "code",
   "execution_count": 18,
   "metadata": {},
   "outputs": [
    {
     "data": {
      "image/png": "[encoded data removed]",
      "text/plain": [
       "<PIL.PngImagePlugin.PngImageFile image mode=RGB size=176x176>"
      ]
     },
     "execution_count": 18,
     "metadata": {},
     "output_type": "execute_result"
    }
   ],
   "source": [
    "import cv2\n",
    "file=\"001_870_Frame_59.png\"\n",
    "# print (rose[0])\n",
    "\n",
    "# file=str(rose[1])\n",
    "image=cv2.imread(file)\n",
    "\n",
    "image_resized= cv2.resize(image, (img_height,img_width))\n",
    "image=np.expand_dims(image_resized,axis=0)\n",
    "# print(image.shape)\n",
    "\n",
    "PIL.Image.open(file)"
   ]
  },
  {
   "cell_type": "code",
   "execution_count": 24,
   "metadata": {},
   "outputs": [
    {
     "name": "stdout",
     "output_type": "stream",
     "text": [
      "{'loss': [0.890921413898468], 'accuracy': [0.814029335975647], 'val_loss': [0.5507893562316895], 'val_accuracy': [0.8529411554336548]}\n"
     ]
    },
    {
     "data": {
      "image/png": "[encoded data removed]",
      "text/plain": [
       "<Figure size 432x288 with 2 Axes>"
      ]
     },
     "metadata": {
      "needs_background": "light"
     },
     "output_type": "display_data"
    }
   ],
   "source": [
    "# print(history.history);\n",
    "# val_loss        = history.history['val_accuracy']\n",
    "# val_accuracy    = history.history['loss']\n",
    "\n",
    "# index=0\n",
    "# for i in val_accuracy:\n",
    "#     val_accuracy[index]=round(i)\n",
    "#     index=index+1\n",
    "\n",
    "# index=0\n",
    "# for a in val_loss:\n",
    "#     val_loss[index]=round(a)\n",
    "#     index=index+1\n",
    "\n",
    "\n",
    "\n",
    "# from sklearn.metrics import confusion_matrix\n",
    "# from sklearn import metrics\n",
    "# y_actu = val_loss\n",
    "# y_pred = val_accuracy\n",
    "\n",
    "\n",
    "# confusion_matrix(y_actu, y_pred)\n",
    "\n",
    "# confusion_matrix = metrics.confusion_matrix(y_actu, y_pred)\n",
    "\n",
    "# cm_display = metrics.ConfusionMatrixDisplay(confusion_matrix = confusion_matrix)\n",
    "\n",
    "# cm_display.plot()\n",
    "# plt.show()"
   ]
  },
  {
   "cell_type": "code",
   "execution_count": 15,
   "metadata": {},
   "outputs": [
    {
     "name": "stdout",
     "output_type": "stream",
     "text": [
      "1/1 [==============================] - 4s 4s/step\n",
      "The predicted class is Fake\n"
     ]
    }
   ],
   "source": [
    "pred=resnet_model.predict(image)\n",
    "# resnet_model.save(args[\"model\"], save_format=\"h5\")\n",
    "# print(np.argmax(pred))\n",
    "output_class=class_names[np.argmax(pred)]\n",
    "print(\"The predicted class is\", output_class)"
   ]
  }
 ],
 "metadata": {
  "kernelspec": {
   "display_name": "Python 3.10.5 64-bit",
   "language": "python",
   "name": "python3"
  },
  "language_info": {
   "codemirror_mode": {
    "name": "ipython",
    "version": 3
   },
   "file_extension": ".py",
   "mimetype": "text/x-python",
   "name": "python",
   "nbconvert_exporter": "python",
   "pygments_lexer": "ipython3",
   "version": "3.10.5"
  },
  "orig_nbformat": 4,
  "vscode": {
   "interpreter": {
    "hash": "dbcefe7cc1b5c8a0efe7bce2a8e6d9d317c4b15f360801b153528886b54c3f98"
   }
  }
 },
 "nbformat": 4,
 "nbformat_minor": 2
}
